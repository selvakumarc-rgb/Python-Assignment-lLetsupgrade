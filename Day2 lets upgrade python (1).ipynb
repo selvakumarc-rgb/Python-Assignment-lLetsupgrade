{
 "cells": [
  {
   "cell_type": "code",
   "execution_count": 2,
   "metadata": {},
   "outputs": [
    {
     "name": "stdout",
     "output_type": "stream",
     "text": [
      "55\n"
     ]
    }
   ],
   "source": [
    "# sum 1 to 10\n",
    "\n",
    "total=0\n",
    "i=1\n",
    "\n",
    "while i <=10:\n",
    "    total=total+i\n",
    "    i=i+1\n",
    "print(total)"
   ]
  },
  {
   "cell_type": "code",
   "execution_count": 5,
   "metadata": {},
   "outputs": [
    {
     "name": "stdout",
     "output_type": "stream",
     "text": [
      "Enter any positive number to check it is prime23\n",
      "23 is a prime number\n",
      "23 is a prime number\n",
      "23 is a prime number\n",
      "23 is a prime number\n",
      "23 is a prime number\n",
      "23 is a prime number\n",
      "23 is a prime number\n",
      "23 is a prime number\n",
      "23 is a prime number\n",
      "23 is a prime number\n",
      "23 is a prime number\n",
      "23 is a prime number\n",
      "23 is a prime number\n",
      "23 is a prime number\n",
      "23 is a prime number\n",
      "23 is a prime number\n",
      "23 is a prime number\n",
      "23 is a prime number\n",
      "23 is a prime number\n",
      "23 is a prime number\n",
      "23 is a prime number\n"
     ]
    }
   ],
   "source": [
    "num=int(input(\"Enter any positive number to check it is prime\"))\n",
    "if num>1:\n",
    "    for i in range (2,num):\n",
    "        if (num%i)==0:\n",
    "            print(num,\"is not a prime number\")\n",
    "            break\n",
    "        else:\n",
    "            print(num,\"is a prime number\")\n",
    "else:\n",
    "    print(num, \"is not a prime number\")"
   ]
  },
  {
   "cell_type": "code",
   "execution_count": null,
   "metadata": {},
   "outputs": [],
   "source": []
  },
  {
   "cell_type": "code",
   "execution_count": 6,
   "metadata": {},
   "outputs": [
    {
     "name": "stdout",
     "output_type": "stream",
     "text": [
      "Enter any positive number to check it is prime25\n",
      "25 is a prime number\n",
      "25 is a prime number\n",
      "25 is a prime number\n",
      "25 is not a prime number\n"
     ]
    }
   ],
   "source": [
    "num=int(input(\"Enter any positive number to check it is prime\"))\n",
    "if num>1:\n",
    "    for i in range (2,num):\n",
    "        if (num%i)==0:\n",
    "            print(num,\"is not a prime number\")\n",
    "            break\n",
    "        else:\n",
    "            print(num,\"is a prime number\")\n",
    "else:\n",
    "    print(num, \"is not a prime number\")"
   ]
  },
  {
   "cell_type": "code",
   "execution_count": null,
   "metadata": {},
   "outputs": [],
   "source": []
  }
 ],
 "metadata": {
  "kernelspec": {
   "display_name": "Python 3",
   "language": "python",
   "name": "python3"
  },
  "language_info": {
   "codemirror_mode": {
    "name": "ipython",
    "version": 3
   },
   "file_extension": ".py",
   "mimetype": "text/x-python",
   "name": "python",
   "nbconvert_exporter": "python",
   "pygments_lexer": "ipython3",
   "version": "3.6.4"
  }
 },
 "nbformat": 4,
 "nbformat_minor": 2
}
