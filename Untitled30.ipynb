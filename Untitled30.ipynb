{
 "cells": [
  {
   "cell_type": "code",
   "execution_count": 4,
   "metadata": {},
   "outputs": [],
   "source": [
    "# python program to find the number is prime or not\n",
    "\n",
    "def isPrime(n):\n",
    "    \n",
    "    if(n<=1):\n",
    "        return False\n",
    "    if (n<=3):\n",
    "        return True\n",
    "    \n",
    "    if (n%2==0 or n%3==0):\n",
    "        return False\n",
    "    \n",
    "    i=5\n",
    "    while (i*i <=n):\n",
    "        if(n%i==0 or n%(i+2)==0):\n",
    "            return False\n",
    "        i=i+6\n",
    "        return True\n",
    "    "
   ]
  },
  {
   "cell_type": "code",
   "execution_count": 6,
   "metadata": {},
   "outputs": [
    {
     "ename": "SyntaxError",
     "evalue": "invalid syntax (<ipython-input-6-c5358bb4699c>, line 6)",
     "output_type": "error",
     "traceback": [
      "\u001b[1;36m  File \u001b[1;32m\"<ipython-input-6-c5358bb4699c>\"\u001b[1;36m, line \u001b[1;32m6\u001b[0m\n\u001b[1;33m    except exception as E:\u001b[0m\n\u001b[1;37m         ^\u001b[0m\n\u001b[1;31mSyntaxError\u001b[0m\u001b[1;31m:\u001b[0m invalid syntax\n"
     ]
    }
   ],
   "source": [
    "#Exception handling \n",
    "def division(m,n):\n",
    "    while True:\n",
    "        try:\n",
    "            res=m//n\n",
    "            except exception as E:\n",
    "                print(E)\n",
    "                n=int(input(\"enter a nonzero number\"))\n",
    "                else:\n",
    "                    print(res)\n",
    "                    finally:\n",
    "                        print(\"program end\")\n",
    "val1=int(input())\n",
    "val2=int(input())\n",
    "\n",
    "division(val1, val2)\n",
    "\n",
    "\n",
    "                "
   ]
  },
  {
   "cell_type": "code",
   "execution_count": null,
   "metadata": {},
   "outputs": [],
   "source": [
    "#program to open a file in read only mode\n",
    "\n",
    "f_obj=open(\"sample.txt\",'r')\n",
    "content=f_obj.read()\n",
    "print(content)\n",
    "f_obj.close()\n"
   ]
  }
 ],
 "metadata": {
  "kernelspec": {
   "display_name": "Python 3",
   "language": "python",
   "name": "python3"
  },
  "language_info": {
   "codemirror_mode": {
    "name": "ipython",
    "version": 3
   },
   "file_extension": ".py",
   "mimetype": "text/x-python",
   "name": "python",
   "nbconvert_exporter": "python",
   "pygments_lexer": "ipython3",
   "version": "3.6.4"
  }
 },
 "nbformat": 4,
 "nbformat_minor": 2
}
